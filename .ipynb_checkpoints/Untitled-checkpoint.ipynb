{
 "cells": [
  {
   "cell_type": "code",
   "execution_count": null,
   "metadata": {},
   "outputs": [],
   "source": [
    "'''\n",
    "I just made a repo Company name, Not Mine to simulate Flatiron (a master)\n",
    "I made a branch, maybe pointess to simulate me getting a file from Flatiron\n",
    "I cloned the file from get, made a dictionary in bash, made a section01 dic, and opened this in bash\n",
    "'''\n",
    "x = 'important company stuff'\n",
    "# add more code on other PC\n",
    "# make a variable that says y = 'other improtant stuff'\n",
    "y = #code here\n"
   ]
  }
 ],
 "metadata": {
  "kernelspec": {
   "display_name": "Python [conda env:learn-env] *",
   "language": "python",
   "name": "conda-env-learn-env-py"
  },
  "language_info": {
   "codemirror_mode": {
    "name": "ipython",
    "version": 3
   },
   "file_extension": ".py",
   "mimetype": "text/x-python",
   "name": "python",
   "nbconvert_exporter": "python",
   "pygments_lexer": "ipython3",
   "version": "3.6.9"
  }
 },
 "nbformat": 4,
 "nbformat_minor": 2
}
